{
 "cells": [
  {
   "cell_type": "markdown",
   "id": "389377d0",
   "metadata": {},
   "source": [
    "## Practice Assignment 1\n",
    "#### Lyn Detwiler, CS-150-1, Version 3.3.2"
   ]
  },
  {
   "cell_type": "code",
   "execution_count": 21,
   "id": "09b465c3",
   "metadata": {},
   "outputs": [
    {
     "name": "stdout",
     "output_type": "stream",
     "text": [
      "Enter a floating number: 4.76\n",
      "Enter an integer: 4\n"
     ]
    }
   ],
   "source": [
    "x=float(input(\"Enter a floating number: \"))\n",
    "y=int(input(\"Enter an integer: \"))"
   ]
  },
  {
   "cell_type": "code",
   "execution_count": 22,
   "id": "fb39cd2a",
   "metadata": {},
   "outputs": [
    {
     "name": "stdout",
     "output_type": "stream",
     "text": [
      "The sum is:  8.76\n"
     ]
    }
   ],
   "source": [
    "a=x+y\n",
    "print(\"The sum is: \",a)"
   ]
  },
  {
   "cell_type": "code",
   "execution_count": 25,
   "id": "58f359c1",
   "metadata": {},
   "outputs": [
    {
     "name": "stdout",
     "output_type": "stream",
     "text": [
      "The difference is:  0.7599999999999998\n"
     ]
    }
   ],
   "source": [
    "b=x-y\n",
    "print(\"The difference is: \",b)"
   ]
  },
  {
   "cell_type": "code",
   "execution_count": 26,
   "id": "f5774889",
   "metadata": {},
   "outputs": [
    {
     "name": "stdout",
     "output_type": "stream",
     "text": [
      "The product is:  19.04\n"
     ]
    }
   ],
   "source": [
    "c=x*y\n",
    "print(\"The product is: \",c)"
   ]
  },
  {
   "cell_type": "code",
   "execution_count": 27,
   "id": "bdd0297a",
   "metadata": {},
   "outputs": [
    {
     "name": "stdout",
     "output_type": "stream",
     "text": [
      "The quotient is:  1.19\n"
     ]
    }
   ],
   "source": [
    "d=x/y\n",
    "print(\"The quotient is: \",d)"
   ]
  },
  {
   "cell_type": "code",
   "execution_count": 28,
   "id": "48a8354e",
   "metadata": {},
   "outputs": [
    {
     "name": "stdout",
     "output_type": "stream",
     "text": [
      "The type for the result is  <class 'float'>\n"
     ]
    }
   ],
   "source": [
    "print(\"The type for the result is \",type(d))"
   ]
  },
  {
   "cell_type": "code",
   "execution_count": null,
   "id": "6a3dd325",
   "metadata": {},
   "outputs": [],
   "source": []
  }
 ],
 "metadata": {
  "kernelspec": {
   "display_name": "Python 3 (ipykernel)",
   "language": "python",
   "name": "python3"
  },
  "language_info": {
   "codemirror_mode": {
    "name": "ipython",
    "version": 3
   },
   "file_extension": ".py",
   "mimetype": "text/x-python",
   "name": "python",
   "nbconvert_exporter": "python",
   "pygments_lexer": "ipython3",
   "version": "3.9.12"
  }
 },
 "nbformat": 4,
 "nbformat_minor": 5
}
